{
 "cells": [
  {
   "cell_type": "markdown",
   "metadata": {},
   "source": [
    "# ***** the autonomous car\n",
    "\n",
    "### Phases of work\n",
    "\n",
    "1. Basic remote controll ef the car (Arduino, ESP, WebSocket)\n",
    "   - Set up better IDE to code faster Arduino and ESP\n",
    "   - Fix servo steering precision (and the spring)\n",
    "   - Fix 20s stop of ESP8266 (on client.poll I suppose...)\n",
    "   - Fix current and voltage supply to the boards\n",
    "   - Divide works between Arduino - ESP - Coral\n",
    "\n",
    "2. Get the car to drive automonously in a predefinied track\n",
    "   - Learn more about Artificial Intelligence:\n",
    "     - Complete YT course\n",
    "     - Review Python syntax coding smaller project and studing better data structures\n",
    "     - Get hand on Tensorflow lib using Google Colaboratory space\n",
    "     - Complete FreeCodeCamp certification by doing all of their final project\n",
    "   - Buy Coral board and test it with Internet examples\n",
    "\n",
    "3. Get the car to understand the envirorment around it\n",
    "   - Add google maps services"
   ]
  },
  {
   "cell_type": "markdown",
   "metadata": {},
   "source": [
    "### Useful resources\n",
    "\n",
    "[FreeCodeCamp's Course](https://www.youtube.com/watch?v=tPYj3fFJGjk)\n",
    "\n",
    "1. Machine Learning Fundamentals\n",
    "2. [Introduction to TensorFlow](https://colab.research.google.com/drive/1F_EWVKa8rbMXi3_fG0w7AtcscFq7Hi7B#forceEdit=true&sandboxMode=true)\n",
    "3. [Core Learning Algorithms](https://colab.research.google.com/drive/15Cyy2H7nT40sGR7TBN5wBvgTd57mVKay#forceEdit=true&sandboxMode=true)\n",
    "4. [Neural Networks with TensorFlow](https://colab.research.google.com/drive/1m2cg3D1x3j5vrFc-Cu0gMvc48gWyCOuG#forceEdit=true&sandboxMode=true)\n",
    "5. [Deep Computer Vision - Convolutional Neural Networks](https://colab.research.google.com/drive/1ZZXnCjFEOkp_KdNcNabd14yok0BAIuwS#forceEdit=true&sandboxMode=true)\n",
    "6. [Natural Language Processing with RNNs](https://colab.research.google.com/drive/1ysEKrw_LE2jMndo1snrZUh5w87LQsCxk#forceEdit=true&sandboxMode=true)\n",
    "7. [Reinforcement Learning with Q-Learning](https://colab.research.google.com/drive/1IlrlS3bB8t1Gd5Pogol4MIwUxlAjhWOQ#forceEdit=true&sandboxMode=true)\n",
    "8. Conclusion and Next Steps\n"
   ]
  }
 ],
 "metadata": {
  "interpreter": {
   "hash": "2c04da1d1760851e7150bda570f978e16c28e60a6a777e3beeda97d5731470df"
  },
  "kernelspec": {
   "display_name": "Python 3.10.2 64-bit",
   "language": "python",
   "name": "python3"
  },
  "language_info": {
   "name": "python",
   "version": "3.10.2"
  },
  "orig_nbformat": 4
 },
 "nbformat": 4,
 "nbformat_minor": 2
}
